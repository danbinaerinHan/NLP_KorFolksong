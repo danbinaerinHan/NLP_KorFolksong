{
 "cells": [
  {
   "cell_type": "code",
   "execution_count": 1,
   "metadata": {},
   "outputs": [],
   "source": [
    "import torch\n",
    "import org_whisper as whisper\n",
    "import ast\n",
    "from pathlib import Path\n",
    "import pandas as pd\n",
    "\n",
    "from my_model import Mymodel\n",
    "from data_utils import MinyoDataset_for_test, MinyoDataset\n",
    "from for_test import get_test_data, around_pad_seqence\n",
    "from transformers import WhisperProcessor\n",
    "\n"
   ]
  },
  {
   "cell_type": "code",
   "execution_count": 2,
   "metadata": {},
   "outputs": [],
   "source": [
    "processor = WhisperProcessor.from_pretrained(\"openai/whisper-large-v2\", language=\"ko\", task=\"transcribe\", predict_timestamps=True)"
   ]
  },
  {
   "cell_type": "code",
   "execution_count": 3,
   "metadata": {},
   "outputs": [
    {
     "data": {
      "text/plain": [
       "<All keys matched successfully>"
      ]
     },
     "execution_count": 3,
     "metadata": {},
     "output_type": "execute_result"
    }
   ],
   "source": [
    "pre_model = whisper.load_model(\"/home/daewoong/userdata/danbi/whisper_pretrain/large-v2.pt\", device='cpu')  \n",
    "model_dims = pre_model.dims\n",
    "model_dims.n_ref_encoder_layer = 4\n",
    "model_dims.n_ref_decoder_layer = 4\n",
    "model_dims.n_ref_text_ctx = 256\n",
    "model_dims.n_ref_text_state = 1280\n",
    "model_dims.ref_encoder_type = 'cnn'\n",
    "checkpoint = torch.load('0615_train/epoch_8.pt', map_location='cpu')\n",
    "model = Mymodel(model_dims)\n",
    "model.load_state_dict(checkpoint['model'])"
   ]
  },
  {
   "cell_type": "code",
   "execution_count": null,
   "metadata": {},
   "outputs": [],
   "source": [
    "# temperature를 설정하지 않으면 0, 0.2, 0.4 ... 1.0 까지 돌면서 inference를 진행합니다.\n",
    "# test set에서 길이를 넘는건 2개 인 것 같습니다.\n",
    "test_dataset_mid_csv = get_test_data(model, device = 'cuda', temperature = 0.0)"
   ]
  },
  {
   "cell_type": "code",
   "execution_count": null,
   "metadata": {},
   "outputs": [],
   "source": [
    "test_dataset_mid_csv.to_csv('/home/daewoong/userdata/danbi/train_result/change.csv')"
   ]
  },
  {
   "cell_type": "code",
   "execution_count": 4,
   "metadata": {},
   "outputs": [],
   "source": [
    "around_txt = '오돌또기 저기 춘향 나온다\\n 달도 밝다 제가 버리로 갈까나\\n 둥그대당실 둥그대당실 여도당실 연자버리고\\n 달도 밝다 제가 머리로 갈까나\\n 서귀포 바당에 해녀가 든숭만숭\\n 둥그대당실 둥그대당실 여도당실 연자버리고\\n 달도 밝다 제가 머리로 갈까나\\n 둥그대당실 둥그대당실 여도당실 연자버리고\\n 달도 밝다 제가 머리로 갈까나\\n'\n",
    "token_ar = processor.tokenizer(around_txt, return_tensors=\"pt\")"
   ]
  },
  {
   "cell_type": "code",
   "execution_count": 9,
   "metadata": {},
   "outputs": [
    {
     "data": {
      "text/plain": [
       "(149, 51)"
      ]
     },
     "execution_count": 9,
     "metadata": {},
     "output_type": "execute_result"
    }
   ],
   "source": [
    "tokens = token_ar.input_ids[0].tolist()\n",
    "len(tokens), len(set(tokens))"
   ]
  },
  {
   "cell_type": "code",
   "execution_count": 14,
   "metadata": {},
   "outputs": [
    {
     "name": "stderr",
     "output_type": "stream",
     "text": [
      "Token indices sequence length is longer than the specified maximum sequence length for this model (1268648 > 1024). Running this sequence through the model will result in indexing errors\n"
     ]
    }
   ],
   "source": [
    "# read entire lyric to check token distribution\n",
    "\n",
    "txt_fn = 'each_song_lyrics.txt'\n",
    "with open(txt_fn, 'r') as f:\n",
    "  text = f.readlines()\n",
    "\n",
    "text = ''.join(text)\n",
    "entire_tokens = processor.tokenizer(text, return_tensors=\"pt\").input_ids"
   ]
  },
  {
   "cell_type": "code",
   "execution_count": 18,
   "metadata": {},
   "outputs": [
    {
     "data": {
      "text/plain": [
       "(1268648, 2387)"
      ]
     },
     "execution_count": 18,
     "metadata": {},
     "output_type": "execute_result"
    }
   ],
   "source": [
    "len(entire_tokens[0]), len(set(entire_tokens[0].tolist()))"
   ]
  },
  {
   "cell_type": "code",
   "execution_count": 21,
   "metadata": {},
   "outputs": [
    {
     "name": "stdout",
     "output_type": "stream",
     "text": [
      "\n",
      "<|startoftranscript|>\n",
      "<|startoftranscript|><|ko|>\n",
      "<|startoftranscript|><|ko|><|transcribe|>\n",
      "<|startoftranscript|><|ko|><|transcribe|>오�\n",
      "<|startoftranscript|><|ko|><|transcribe|>오�\n",
      "<|startoftranscript|><|ko|><|transcribe|>오돌�\n",
      "<|startoftranscript|><|ko|><|transcribe|>오돌�\n",
      "<|startoftranscript|><|ko|><|transcribe|>오돌또\n",
      "<|startoftranscript|><|ko|><|transcribe|>오돌또기\n",
      "<|startoftranscript|><|ko|><|transcribe|>오돌또기 저기\n",
      "<|startoftranscript|><|ko|><|transcribe|>오돌또기 저기 �\n",
      "<|startoftranscript|><|ko|><|transcribe|>오돌또기 저기 춘\n",
      "<|startoftranscript|><|ko|><|transcribe|>오돌또기 저기 춘향\n",
      "<|startoftranscript|><|ko|><|transcribe|>오돌또기 저기 춘향 나온\n",
      "<|startoftranscript|><|ko|><|transcribe|>오돌또기 저기 춘향 나온다\n",
      "<|startoftranscript|><|ko|><|transcribe|>오돌또기 저기 춘향 나온다\n",
      "\n",
      "<|startoftranscript|><|ko|><|transcribe|>오돌또기 저기 춘향 나온다\n",
      " 달�\n",
      "<|startoftranscript|><|ko|><|transcribe|>오돌또기 저기 춘향 나온다\n",
      " 달도\n",
      "<|startoftranscript|><|ko|><|transcribe|>오돌또기 저기 춘향 나온다\n",
      " 달도 밝\n",
      "<|startoftranscript|><|ko|><|transcribe|>오돌또기 저기 춘향 나온다\n",
      " 달도 밝다\n",
      "<|startoftranscript|><|ko|><|transcribe|>오돌또기 저기 춘향 나온다\n",
      " 달도 밝다 제가\n",
      "<|startoftranscript|><|ko|><|transcribe|>오돌또기 저기 춘향 나온다\n",
      " 달도 밝다 제가 버�\n",
      "<|startoftranscript|><|ko|><|transcribe|>오돌또기 저기 춘향 나온다\n",
      " 달도 밝다 제가 버리�\n",
      "<|startoftranscript|><|ko|><|transcribe|>오돌또기 저기 춘향 나온다\n",
      " 달도 밝다 제가 버리로\n",
      "<|startoftranscript|><|ko|><|transcribe|>오돌또기 저기 춘향 나온다\n",
      " 달도 밝다 제가 버리로 갈\n",
      "<|startoftranscript|><|ko|><|transcribe|>오돌또기 저기 춘향 나온다\n",
      " 달도 밝다 제가 버리로 갈�\n",
      "<|startoftranscript|><|ko|><|transcribe|>오돌또기 저기 춘향 나온다\n",
      " 달도 밝다 제가 버리로 갈까�\n",
      "<|startoftranscript|><|ko|><|transcribe|>오돌또기 저기 춘향 나온다\n",
      " 달도 밝다 제가 버리로 갈까나\n",
      "<|startoftranscript|><|ko|><|transcribe|>오돌또기 저기 춘향 나온다\n",
      " 달도 밝다 제가 버리로 갈까나\n",
      "\n",
      "<|startoftranscript|><|ko|><|transcribe|>오돌또기 저기 춘향 나온다\n",
      " 달도 밝다 제가 버리로 갈까나\n",
      " �\n",
      "<|startoftranscript|><|ko|><|transcribe|>오돌또기 저기 춘향 나온다\n",
      " 달도 밝다 제가 버리로 갈까나\n",
      " 둥\n",
      "<|startoftranscript|><|ko|><|transcribe|>오돌또기 저기 춘향 나온다\n",
      " 달도 밝다 제가 버리로 갈까나\n",
      " 둥그�\n",
      "<|startoftranscript|><|ko|><|transcribe|>오돌또기 저기 춘향 나온다\n",
      " 달도 밝다 제가 버리로 갈까나\n",
      " 둥그대\n",
      "<|startoftranscript|><|ko|><|transcribe|>오돌또기 저기 춘향 나온다\n",
      " 달도 밝다 제가 버리로 갈까나\n",
      " 둥그대당\n",
      "<|startoftranscript|><|ko|><|transcribe|>오돌또기 저기 춘향 나온다\n",
      " 달도 밝다 제가 버리로 갈까나\n",
      " 둥그대당실\n",
      "<|startoftranscript|><|ko|><|transcribe|>오돌또기 저기 춘향 나온다\n",
      " 달도 밝다 제가 버리로 갈까나\n",
      " 둥그대당실 �\n",
      "<|startoftranscript|><|ko|><|transcribe|>오돌또기 저기 춘향 나온다\n",
      " 달도 밝다 제가 버리로 갈까나\n",
      " 둥그대당실 둥\n",
      "<|startoftranscript|><|ko|><|transcribe|>오돌또기 저기 춘향 나온다\n",
      " 달도 밝다 제가 버리로 갈까나\n",
      " 둥그대당실 둥그�\n",
      "<|startoftranscript|><|ko|><|transcribe|>오돌또기 저기 춘향 나온다\n",
      " 달도 밝다 제가 버리로 갈까나\n",
      " 둥그대당실 둥그대\n",
      "<|startoftranscript|><|ko|><|transcribe|>오돌또기 저기 춘향 나온다\n",
      " 달도 밝다 제가 버리로 갈까나\n",
      " 둥그대당실 둥그대당\n",
      "<|startoftranscript|><|ko|><|transcribe|>오돌또기 저기 춘향 나온다\n",
      " 달도 밝다 제가 버리로 갈까나\n",
      " 둥그대당실 둥그대당실\n",
      "<|startoftranscript|><|ko|><|transcribe|>오돌또기 저기 춘향 나온다\n",
      " 달도 밝다 제가 버리로 갈까나\n",
      " 둥그대당실 둥그대당실 여�\n",
      "<|startoftranscript|><|ko|><|transcribe|>오돌또기 저기 춘향 나온다\n",
      " 달도 밝다 제가 버리로 갈까나\n",
      " 둥그대당실 둥그대당실 여도\n",
      "<|startoftranscript|><|ko|><|transcribe|>오돌또기 저기 춘향 나온다\n",
      " 달도 밝다 제가 버리로 갈까나\n",
      " 둥그대당실 둥그대당실 여도당\n",
      "<|startoftranscript|><|ko|><|transcribe|>오돌또기 저기 춘향 나온다\n",
      " 달도 밝다 제가 버리로 갈까나\n",
      " 둥그대당실 둥그대당실 여도당실\n",
      "<|startoftranscript|><|ko|><|transcribe|>오돌또기 저기 춘향 나온다\n",
      " 달도 밝다 제가 버리로 갈까나\n",
      " 둥그대당실 둥그대당실 여도당실 연\n",
      "<|startoftranscript|><|ko|><|transcribe|>오돌또기 저기 춘향 나온다\n",
      " 달도 밝다 제가 버리로 갈까나\n",
      " 둥그대당실 둥그대당실 여도당실 연자�\n",
      "<|startoftranscript|><|ko|><|transcribe|>오돌또기 저기 춘향 나온다\n",
      " 달도 밝다 제가 버리로 갈까나\n",
      " 둥그대당실 둥그대당실 여도당실 연자버�\n",
      "<|startoftranscript|><|ko|><|transcribe|>오돌또기 저기 춘향 나온다\n",
      " 달도 밝다 제가 버리로 갈까나\n",
      " 둥그대당실 둥그대당실 여도당실 연자버리고\n",
      "<|startoftranscript|><|ko|><|transcribe|>오돌또기 저기 춘향 나온다\n",
      " 달도 밝다 제가 버리로 갈까나\n",
      " 둥그대당실 둥그대당실 여도당실 연자버리고\n",
      "\n",
      "<|startoftranscript|><|ko|><|transcribe|>오돌또기 저기 춘향 나온다\n",
      " 달도 밝다 제가 버리로 갈까나\n",
      " 둥그대당실 둥그대당실 여도당실 연자버리고\n",
      " 달�\n",
      "<|startoftranscript|><|ko|><|transcribe|>오돌또기 저기 춘향 나온다\n",
      " 달도 밝다 제가 버리로 갈까나\n",
      " 둥그대당실 둥그대당실 여도당실 연자버리고\n",
      " 달도\n",
      "<|startoftranscript|><|ko|><|transcribe|>오돌또기 저기 춘향 나온다\n",
      " 달도 밝다 제가 버리로 갈까나\n",
      " 둥그대당실 둥그대당실 여도당실 연자버리고\n",
      " 달도 밝\n",
      "<|startoftranscript|><|ko|><|transcribe|>오돌또기 저기 춘향 나온다\n",
      " 달도 밝다 제가 버리로 갈까나\n",
      " 둥그대당실 둥그대당실 여도당실 연자버리고\n",
      " 달도 밝다\n",
      "<|startoftranscript|><|ko|><|transcribe|>오돌또기 저기 춘향 나온다\n",
      " 달도 밝다 제가 버리로 갈까나\n",
      " 둥그대당실 둥그대당실 여도당실 연자버리고\n",
      " 달도 밝다 제가\n",
      "<|startoftranscript|><|ko|><|transcribe|>오돌또기 저기 춘향 나온다\n",
      " 달도 밝다 제가 버리로 갈까나\n",
      " 둥그대당실 둥그대당실 여도당실 연자버리고\n",
      " 달도 밝다 제가 머�\n",
      "<|startoftranscript|><|ko|><|transcribe|>오돌또기 저기 춘향 나온다\n",
      " 달도 밝다 제가 버리로 갈까나\n",
      " 둥그대당실 둥그대당실 여도당실 연자버리고\n",
      " 달도 밝다 제가 머리�\n",
      "<|startoftranscript|><|ko|><|transcribe|>오돌또기 저기 춘향 나온다\n",
      " 달도 밝다 제가 버리로 갈까나\n",
      " 둥그대당실 둥그대당실 여도당실 연자버리고\n",
      " 달도 밝다 제가 머리로\n",
      "<|startoftranscript|><|ko|><|transcribe|>오돌또기 저기 춘향 나온다\n",
      " 달도 밝다 제가 버리로 갈까나\n",
      " 둥그대당실 둥그대당실 여도당실 연자버리고\n",
      " 달도 밝다 제가 머리로 갈\n",
      "<|startoftranscript|><|ko|><|transcribe|>오돌또기 저기 춘향 나온다\n",
      " 달도 밝다 제가 버리로 갈까나\n",
      " 둥그대당실 둥그대당실 여도당실 연자버리고\n",
      " 달도 밝다 제가 머리로 갈�\n",
      "<|startoftranscript|><|ko|><|transcribe|>오돌또기 저기 춘향 나온다\n",
      " 달도 밝다 제가 버리로 갈까나\n",
      " 둥그대당실 둥그대당실 여도당실 연자버리고\n",
      " 달도 밝다 제가 머리로 갈까�\n",
      "<|startoftranscript|><|ko|><|transcribe|>오돌또기 저기 춘향 나온다\n",
      " 달도 밝다 제가 버리로 갈까나\n",
      " 둥그대당실 둥그대당실 여도당실 연자버리고\n",
      " 달도 밝다 제가 머리로 갈까나\n",
      "<|startoftranscript|><|ko|><|transcribe|>오돌또기 저기 춘향 나온다\n",
      " 달도 밝다 제가 버리로 갈까나\n",
      " 둥그대당실 둥그대당실 여도당실 연자버리고\n",
      " 달도 밝다 제가 머리로 갈까나\n",
      "\n",
      "<|startoftranscript|><|ko|><|transcribe|>오돌또기 저기 춘향 나온다\n",
      " 달도 밝다 제가 버리로 갈까나\n",
      " 둥그대당실 둥그대당실 여도당실 연자버리고\n",
      " 달도 밝다 제가 머리로 갈까나\n",
      " 서\n",
      "<|startoftranscript|><|ko|><|transcribe|>오돌또기 저기 춘향 나온다\n",
      " 달도 밝다 제가 버리로 갈까나\n",
      " 둥그대당실 둥그대당실 여도당실 연자버리고\n",
      " 달도 밝다 제가 머리로 갈까나\n",
      " 서귀\n",
      "<|startoftranscript|><|ko|><|transcribe|>오돌또기 저기 춘향 나온다\n",
      " 달도 밝다 제가 버리로 갈까나\n",
      " 둥그대당실 둥그대당실 여도당실 연자버리고\n",
      " 달도 밝다 제가 머리로 갈까나\n",
      " 서귀포\n",
      "<|startoftranscript|><|ko|><|transcribe|>오돌또기 저기 춘향 나온다\n",
      " 달도 밝다 제가 버리로 갈까나\n",
      " 둥그대당실 둥그대당실 여도당실 연자버리고\n",
      " 달도 밝다 제가 머리로 갈까나\n",
      " 서귀포 바\n",
      "<|startoftranscript|><|ko|><|transcribe|>오돌또기 저기 춘향 나온다\n",
      " 달도 밝다 제가 버리로 갈까나\n",
      " 둥그대당실 둥그대당실 여도당실 연자버리고\n",
      " 달도 밝다 제가 머리로 갈까나\n",
      " 서귀포 바당\n",
      "<|startoftranscript|><|ko|><|transcribe|>오돌또기 저기 춘향 나온다\n",
      " 달도 밝다 제가 버리로 갈까나\n",
      " 둥그대당실 둥그대당실 여도당실 연자버리고\n",
      " 달도 밝다 제가 머리로 갈까나\n",
      " 서귀포 바당에\n",
      "<|startoftranscript|><|ko|><|transcribe|>오돌또기 저기 춘향 나온다\n",
      " 달도 밝다 제가 버리로 갈까나\n",
      " 둥그대당실 둥그대당실 여도당실 연자버리고\n",
      " 달도 밝다 제가 머리로 갈까나\n",
      " 서귀포 바당에 해�\n",
      "<|startoftranscript|><|ko|><|transcribe|>오돌또기 저기 춘향 나온다\n",
      " 달도 밝다 제가 버리로 갈까나\n",
      " 둥그대당실 둥그대당실 여도당실 연자버리고\n",
      " 달도 밝다 제가 머리로 갈까나\n",
      " 서귀포 바당에 해녀\n",
      "<|startoftranscript|><|ko|><|transcribe|>오돌또기 저기 춘향 나온다\n",
      " 달도 밝다 제가 버리로 갈까나\n",
      " 둥그대당실 둥그대당실 여도당실 연자버리고\n",
      " 달도 밝다 제가 머리로 갈까나\n",
      " 서귀포 바당에 해녀가\n",
      "<|startoftranscript|><|ko|><|transcribe|>오돌또기 저기 춘향 나온다\n",
      " 달도 밝다 제가 버리로 갈까나\n",
      " 둥그대당실 둥그대당실 여도당실 연자버리고\n",
      " 달도 밝다 제가 머리로 갈까나\n",
      " 서귀포 바당에 해녀가 �\n",
      "<|startoftranscript|><|ko|><|transcribe|>오돌또기 저기 춘향 나온다\n",
      " 달도 밝다 제가 버리로 갈까나\n",
      " 둥그대당실 둥그대당실 여도당실 연자버리고\n",
      " 달도 밝다 제가 머리로 갈까나\n",
      " 서귀포 바당에 해녀가 든\n",
      "<|startoftranscript|><|ko|><|transcribe|>오돌또기 저기 춘향 나온다\n",
      " 달도 밝다 제가 버리로 갈까나\n",
      " 둥그대당실 둥그대당실 여도당실 연자버리고\n",
      " 달도 밝다 제가 머리로 갈까나\n",
      " 서귀포 바당에 해녀가 든�\n",
      "<|startoftranscript|><|ko|><|transcribe|>오돌또기 저기 춘향 나온다\n",
      " 달도 밝다 제가 버리로 갈까나\n",
      " 둥그대당실 둥그대당실 여도당실 연자버리고\n",
      " 달도 밝다 제가 머리로 갈까나\n",
      " 서귀포 바당에 해녀가 든숭\n",
      "<|startoftranscript|><|ko|><|transcribe|>오돌또기 저기 춘향 나온다\n",
      " 달도 밝다 제가 버리로 갈까나\n",
      " 둥그대당실 둥그대당실 여도당실 연자버리고\n",
      " 달도 밝다 제가 머리로 갈까나\n",
      " 서귀포 바당에 해녀가 든숭만\n",
      "<|startoftranscript|><|ko|><|transcribe|>오돌또기 저기 춘향 나온다\n",
      " 달도 밝다 제가 버리로 갈까나\n",
      " 둥그대당실 둥그대당실 여도당실 연자버리고\n",
      " 달도 밝다 제가 머리로 갈까나\n",
      " 서귀포 바당에 해녀가 든숭만�\n",
      "<|startoftranscript|><|ko|><|transcribe|>오돌또기 저기 춘향 나온다\n",
      " 달도 밝다 제가 버리로 갈까나\n",
      " 둥그대당실 둥그대당실 여도당실 연자버리고\n",
      " 달도 밝다 제가 머리로 갈까나\n",
      " 서귀포 바당에 해녀가 든숭만숭\n",
      "<|startoftranscript|><|ko|><|transcribe|>오돌또기 저기 춘향 나온다\n",
      " 달도 밝다 제가 버리로 갈까나\n",
      " 둥그대당실 둥그대당실 여도당실 연자버리고\n",
      " 달도 밝다 제가 머리로 갈까나\n",
      " 서귀포 바당에 해녀가 든숭만숭\n",
      "\n",
      "<|startoftranscript|><|ko|><|transcribe|>오돌또기 저기 춘향 나온다\n",
      " 달도 밝다 제가 버리로 갈까나\n",
      " 둥그대당실 둥그대당실 여도당실 연자버리고\n",
      " 달도 밝다 제가 머리로 갈까나\n",
      " 서귀포 바당에 해녀가 든숭만숭\n",
      " �\n",
      "<|startoftranscript|><|ko|><|transcribe|>오돌또기 저기 춘향 나온다\n",
      " 달도 밝다 제가 버리로 갈까나\n",
      " 둥그대당실 둥그대당실 여도당실 연자버리고\n",
      " 달도 밝다 제가 머리로 갈까나\n",
      " 서귀포 바당에 해녀가 든숭만숭\n",
      " 둥\n",
      "<|startoftranscript|><|ko|><|transcribe|>오돌또기 저기 춘향 나온다\n",
      " 달도 밝다 제가 버리로 갈까나\n",
      " 둥그대당실 둥그대당실 여도당실 연자버리고\n",
      " 달도 밝다 제가 머리로 갈까나\n",
      " 서귀포 바당에 해녀가 든숭만숭\n",
      " 둥그�\n",
      "<|startoftranscript|><|ko|><|transcribe|>오돌또기 저기 춘향 나온다\n",
      " 달도 밝다 제가 버리로 갈까나\n",
      " 둥그대당실 둥그대당실 여도당실 연자버리고\n",
      " 달도 밝다 제가 머리로 갈까나\n",
      " 서귀포 바당에 해녀가 든숭만숭\n",
      " 둥그대\n",
      "<|startoftranscript|><|ko|><|transcribe|>오돌또기 저기 춘향 나온다\n",
      " 달도 밝다 제가 버리로 갈까나\n",
      " 둥그대당실 둥그대당실 여도당실 연자버리고\n",
      " 달도 밝다 제가 머리로 갈까나\n",
      " 서귀포 바당에 해녀가 든숭만숭\n",
      " 둥그대당\n",
      "<|startoftranscript|><|ko|><|transcribe|>오돌또기 저기 춘향 나온다\n",
      " 달도 밝다 제가 버리로 갈까나\n",
      " 둥그대당실 둥그대당실 여도당실 연자버리고\n",
      " 달도 밝다 제가 머리로 갈까나\n",
      " 서귀포 바당에 해녀가 든숭만숭\n",
      " 둥그대당실\n",
      "<|startoftranscript|><|ko|><|transcribe|>오돌또기 저기 춘향 나온다\n",
      " 달도 밝다 제가 버리로 갈까나\n",
      " 둥그대당실 둥그대당실 여도당실 연자버리고\n",
      " 달도 밝다 제가 머리로 갈까나\n",
      " 서귀포 바당에 해녀가 든숭만숭\n",
      " 둥그대당실 �\n",
      "<|startoftranscript|><|ko|><|transcribe|>오돌또기 저기 춘향 나온다\n",
      " 달도 밝다 제가 버리로 갈까나\n",
      " 둥그대당실 둥그대당실 여도당실 연자버리고\n",
      " 달도 밝다 제가 머리로 갈까나\n",
      " 서귀포 바당에 해녀가 든숭만숭\n",
      " 둥그대당실 둥\n",
      "<|startoftranscript|><|ko|><|transcribe|>오돌또기 저기 춘향 나온다\n",
      " 달도 밝다 제가 버리로 갈까나\n",
      " 둥그대당실 둥그대당실 여도당실 연자버리고\n",
      " 달도 밝다 제가 머리로 갈까나\n",
      " 서귀포 바당에 해녀가 든숭만숭\n",
      " 둥그대당실 둥그�\n",
      "<|startoftranscript|><|ko|><|transcribe|>오돌또기 저기 춘향 나온다\n",
      " 달도 밝다 제가 버리로 갈까나\n",
      " 둥그대당실 둥그대당실 여도당실 연자버리고\n",
      " 달도 밝다 제가 머리로 갈까나\n",
      " 서귀포 바당에 해녀가 든숭만숭\n",
      " 둥그대당실 둥그대\n",
      "<|startoftranscript|><|ko|><|transcribe|>오돌또기 저기 춘향 나온다\n",
      " 달도 밝다 제가 버리로 갈까나\n",
      " 둥그대당실 둥그대당실 여도당실 연자버리고\n",
      " 달도 밝다 제가 머리로 갈까나\n",
      " 서귀포 바당에 해녀가 든숭만숭\n",
      " 둥그대당실 둥그대당\n",
      "<|startoftranscript|><|ko|><|transcribe|>오돌또기 저기 춘향 나온다\n",
      " 달도 밝다 제가 버리로 갈까나\n",
      " 둥그대당실 둥그대당실 여도당실 연자버리고\n",
      " 달도 밝다 제가 머리로 갈까나\n",
      " 서귀포 바당에 해녀가 든숭만숭\n",
      " 둥그대당실 둥그대당실\n",
      "<|startoftranscript|><|ko|><|transcribe|>오돌또기 저기 춘향 나온다\n",
      " 달도 밝다 제가 버리로 갈까나\n",
      " 둥그대당실 둥그대당실 여도당실 연자버리고\n",
      " 달도 밝다 제가 머리로 갈까나\n",
      " 서귀포 바당에 해녀가 든숭만숭\n",
      " 둥그대당실 둥그대당실 여�\n",
      "<|startoftranscript|><|ko|><|transcribe|>오돌또기 저기 춘향 나온다\n",
      " 달도 밝다 제가 버리로 갈까나\n",
      " 둥그대당실 둥그대당실 여도당실 연자버리고\n",
      " 달도 밝다 제가 머리로 갈까나\n",
      " 서귀포 바당에 해녀가 든숭만숭\n",
      " 둥그대당실 둥그대당실 여도\n",
      "<|startoftranscript|><|ko|><|transcribe|>오돌또기 저기 춘향 나온다\n",
      " 달도 밝다 제가 버리로 갈까나\n",
      " 둥그대당실 둥그대당실 여도당실 연자버리고\n",
      " 달도 밝다 제가 머리로 갈까나\n",
      " 서귀포 바당에 해녀가 든숭만숭\n",
      " 둥그대당실 둥그대당실 여도당\n",
      "<|startoftranscript|><|ko|><|transcribe|>오돌또기 저기 춘향 나온다\n",
      " 달도 밝다 제가 버리로 갈까나\n",
      " 둥그대당실 둥그대당실 여도당실 연자버리고\n",
      " 달도 밝다 제가 머리로 갈까나\n",
      " 서귀포 바당에 해녀가 든숭만숭\n",
      " 둥그대당실 둥그대당실 여도당실\n",
      "<|startoftranscript|><|ko|><|transcribe|>오돌또기 저기 춘향 나온다\n",
      " 달도 밝다 제가 버리로 갈까나\n",
      " 둥그대당실 둥그대당실 여도당실 연자버리고\n",
      " 달도 밝다 제가 머리로 갈까나\n",
      " 서귀포 바당에 해녀가 든숭만숭\n",
      " 둥그대당실 둥그대당실 여도당실 연\n",
      "<|startoftranscript|><|ko|><|transcribe|>오돌또기 저기 춘향 나온다\n",
      " 달도 밝다 제가 버리로 갈까나\n",
      " 둥그대당실 둥그대당실 여도당실 연자버리고\n",
      " 달도 밝다 제가 머리로 갈까나\n",
      " 서귀포 바당에 해녀가 든숭만숭\n",
      " 둥그대당실 둥그대당실 여도당실 연자�\n",
      "<|startoftranscript|><|ko|><|transcribe|>오돌또기 저기 춘향 나온다\n",
      " 달도 밝다 제가 버리로 갈까나\n",
      " 둥그대당실 둥그대당실 여도당실 연자버리고\n",
      " 달도 밝다 제가 머리로 갈까나\n",
      " 서귀포 바당에 해녀가 든숭만숭\n",
      " 둥그대당실 둥그대당실 여도당실 연자버�\n",
      "<|startoftranscript|><|ko|><|transcribe|>오돌또기 저기 춘향 나온다\n",
      " 달도 밝다 제가 버리로 갈까나\n",
      " 둥그대당실 둥그대당실 여도당실 연자버리고\n",
      " 달도 밝다 제가 머리로 갈까나\n",
      " 서귀포 바당에 해녀가 든숭만숭\n",
      " 둥그대당실 둥그대당실 여도당실 연자버리고\n",
      "<|startoftranscript|><|ko|><|transcribe|>오돌또기 저기 춘향 나온다\n",
      " 달도 밝다 제가 버리로 갈까나\n",
      " 둥그대당실 둥그대당실 여도당실 연자버리고\n",
      " 달도 밝다 제가 머리로 갈까나\n",
      " 서귀포 바당에 해녀가 든숭만숭\n",
      " 둥그대당실 둥그대당실 여도당실 연자버리고\n",
      "\n",
      "<|startoftranscript|><|ko|><|transcribe|>오돌또기 저기 춘향 나온다\n",
      " 달도 밝다 제가 버리로 갈까나\n",
      " 둥그대당실 둥그대당실 여도당실 연자버리고\n",
      " 달도 밝다 제가 머리로 갈까나\n",
      " 서귀포 바당에 해녀가 든숭만숭\n",
      " 둥그대당실 둥그대당실 여도당실 연자버리고\n",
      " 달�\n",
      "<|startoftranscript|><|ko|><|transcribe|>오돌또기 저기 춘향 나온다\n",
      " 달도 밝다 제가 버리로 갈까나\n",
      " 둥그대당실 둥그대당실 여도당실 연자버리고\n",
      " 달도 밝다 제가 머리로 갈까나\n",
      " 서귀포 바당에 해녀가 든숭만숭\n",
      " 둥그대당실 둥그대당실 여도당실 연자버리고\n",
      " 달도\n",
      "<|startoftranscript|><|ko|><|transcribe|>오돌또기 저기 춘향 나온다\n",
      " 달도 밝다 제가 버리로 갈까나\n",
      " 둥그대당실 둥그대당실 여도당실 연자버리고\n",
      " 달도 밝다 제가 머리로 갈까나\n",
      " 서귀포 바당에 해녀가 든숭만숭\n",
      " 둥그대당실 둥그대당실 여도당실 연자버리고\n",
      " 달도 밝\n",
      "<|startoftranscript|><|ko|><|transcribe|>오돌또기 저기 춘향 나온다\n",
      " 달도 밝다 제가 버리로 갈까나\n",
      " 둥그대당실 둥그대당실 여도당실 연자버리고\n",
      " 달도 밝다 제가 머리로 갈까나\n",
      " 서귀포 바당에 해녀가 든숭만숭\n",
      " 둥그대당실 둥그대당실 여도당실 연자버리고\n",
      " 달도 밝다\n",
      "<|startoftranscript|><|ko|><|transcribe|>오돌또기 저기 춘향 나온다\n",
      " 달도 밝다 제가 버리로 갈까나\n",
      " 둥그대당실 둥그대당실 여도당실 연자버리고\n",
      " 달도 밝다 제가 머리로 갈까나\n",
      " 서귀포 바당에 해녀가 든숭만숭\n",
      " 둥그대당실 둥그대당실 여도당실 연자버리고\n",
      " 달도 밝다 제가\n",
      "<|startoftranscript|><|ko|><|transcribe|>오돌또기 저기 춘향 나온다\n",
      " 달도 밝다 제가 버리로 갈까나\n",
      " 둥그대당실 둥그대당실 여도당실 연자버리고\n",
      " 달도 밝다 제가 머리로 갈까나\n",
      " 서귀포 바당에 해녀가 든숭만숭\n",
      " 둥그대당실 둥그대당실 여도당실 연자버리고\n",
      " 달도 밝다 제가 머�\n",
      "<|startoftranscript|><|ko|><|transcribe|>오돌또기 저기 춘향 나온다\n",
      " 달도 밝다 제가 버리로 갈까나\n",
      " 둥그대당실 둥그대당실 여도당실 연자버리고\n",
      " 달도 밝다 제가 머리로 갈까나\n",
      " 서귀포 바당에 해녀가 든숭만숭\n",
      " 둥그대당실 둥그대당실 여도당실 연자버리고\n",
      " 달도 밝다 제가 머리�\n",
      "<|startoftranscript|><|ko|><|transcribe|>오돌또기 저기 춘향 나온다\n",
      " 달도 밝다 제가 버리로 갈까나\n",
      " 둥그대당실 둥그대당실 여도당실 연자버리고\n",
      " 달도 밝다 제가 머리로 갈까나\n",
      " 서귀포 바당에 해녀가 든숭만숭\n",
      " 둥그대당실 둥그대당실 여도당실 연자버리고\n",
      " 달도 밝다 제가 머리로\n",
      "<|startoftranscript|><|ko|><|transcribe|>오돌또기 저기 춘향 나온다\n",
      " 달도 밝다 제가 버리로 갈까나\n",
      " 둥그대당실 둥그대당실 여도당실 연자버리고\n",
      " 달도 밝다 제가 머리로 갈까나\n",
      " 서귀포 바당에 해녀가 든숭만숭\n",
      " 둥그대당실 둥그대당실 여도당실 연자버리고\n",
      " 달도 밝다 제가 머리로 갈\n",
      "<|startoftranscript|><|ko|><|transcribe|>오돌또기 저기 춘향 나온다\n",
      " 달도 밝다 제가 버리로 갈까나\n",
      " 둥그대당실 둥그대당실 여도당실 연자버리고\n",
      " 달도 밝다 제가 머리로 갈까나\n",
      " 서귀포 바당에 해녀가 든숭만숭\n",
      " 둥그대당실 둥그대당실 여도당실 연자버리고\n",
      " 달도 밝다 제가 머리로 갈�\n",
      "<|startoftranscript|><|ko|><|transcribe|>오돌또기 저기 춘향 나온다\n",
      " 달도 밝다 제가 버리로 갈까나\n",
      " 둥그대당실 둥그대당실 여도당실 연자버리고\n",
      " 달도 밝다 제가 머리로 갈까나\n",
      " 서귀포 바당에 해녀가 든숭만숭\n",
      " 둥그대당실 둥그대당실 여도당실 연자버리고\n",
      " 달도 밝다 제가 머리로 갈까�\n",
      "<|startoftranscript|><|ko|><|transcribe|>오돌또기 저기 춘향 나온다\n",
      " 달도 밝다 제가 버리로 갈까나\n",
      " 둥그대당실 둥그대당실 여도당실 연자버리고\n",
      " 달도 밝다 제가 머리로 갈까나\n",
      " 서귀포 바당에 해녀가 든숭만숭\n",
      " 둥그대당실 둥그대당실 여도당실 연자버리고\n",
      " 달도 밝다 제가 머리로 갈까나\n",
      "<|startoftranscript|><|ko|><|transcribe|>오돌또기 저기 춘향 나온다\n",
      " 달도 밝다 제가 버리로 갈까나\n",
      " 둥그대당실 둥그대당실 여도당실 연자버리고\n",
      " 달도 밝다 제가 머리로 갈까나\n",
      " 서귀포 바당에 해녀가 든숭만숭\n",
      " 둥그대당실 둥그대당실 여도당실 연자버리고\n",
      " 달도 밝다 제가 머리로 갈까나\n",
      "\n",
      "<|startoftranscript|><|ko|><|transcribe|>오돌또기 저기 춘향 나온다\n",
      " 달도 밝다 제가 버리로 갈까나\n",
      " 둥그대당실 둥그대당실 여도당실 연자버리고\n",
      " 달도 밝다 제가 머리로 갈까나\n",
      " 서귀포 바당에 해녀가 든숭만숭\n",
      " 둥그대당실 둥그대당실 여도당실 연자버리고\n",
      " 달도 밝다 제가 머리로 갈까나\n",
      " �\n",
      "<|startoftranscript|><|ko|><|transcribe|>오돌또기 저기 춘향 나온다\n",
      " 달도 밝다 제가 버리로 갈까나\n",
      " 둥그대당실 둥그대당실 여도당실 연자버리고\n",
      " 달도 밝다 제가 머리로 갈까나\n",
      " 서귀포 바당에 해녀가 든숭만숭\n",
      " 둥그대당실 둥그대당실 여도당실 연자버리고\n",
      " 달도 밝다 제가 머리로 갈까나\n",
      " 둥\n",
      "<|startoftranscript|><|ko|><|transcribe|>오돌또기 저기 춘향 나온다\n",
      " 달도 밝다 제가 버리로 갈까나\n",
      " 둥그대당실 둥그대당실 여도당실 연자버리고\n",
      " 달도 밝다 제가 머리로 갈까나\n",
      " 서귀포 바당에 해녀가 든숭만숭\n",
      " 둥그대당실 둥그대당실 여도당실 연자버리고\n",
      " 달도 밝다 제가 머리로 갈까나\n",
      " 둥그�\n",
      "<|startoftranscript|><|ko|><|transcribe|>오돌또기 저기 춘향 나온다\n",
      " 달도 밝다 제가 버리로 갈까나\n",
      " 둥그대당실 둥그대당실 여도당실 연자버리고\n",
      " 달도 밝다 제가 머리로 갈까나\n",
      " 서귀포 바당에 해녀가 든숭만숭\n",
      " 둥그대당실 둥그대당실 여도당실 연자버리고\n",
      " 달도 밝다 제가 머리로 갈까나\n",
      " 둥그대\n",
      "<|startoftranscript|><|ko|><|transcribe|>오돌또기 저기 춘향 나온다\n",
      " 달도 밝다 제가 버리로 갈까나\n",
      " 둥그대당실 둥그대당실 여도당실 연자버리고\n",
      " 달도 밝다 제가 머리로 갈까나\n",
      " 서귀포 바당에 해녀가 든숭만숭\n",
      " 둥그대당실 둥그대당실 여도당실 연자버리고\n",
      " 달도 밝다 제가 머리로 갈까나\n",
      " 둥그대당\n",
      "<|startoftranscript|><|ko|><|transcribe|>오돌또기 저기 춘향 나온다\n",
      " 달도 밝다 제가 버리로 갈까나\n",
      " 둥그대당실 둥그대당실 여도당실 연자버리고\n",
      " 달도 밝다 제가 머리로 갈까나\n",
      " 서귀포 바당에 해녀가 든숭만숭\n",
      " 둥그대당실 둥그대당실 여도당실 연자버리고\n",
      " 달도 밝다 제가 머리로 갈까나\n",
      " 둥그대당실\n",
      "<|startoftranscript|><|ko|><|transcribe|>오돌또기 저기 춘향 나온다\n",
      " 달도 밝다 제가 버리로 갈까나\n",
      " 둥그대당실 둥그대당실 여도당실 연자버리고\n",
      " 달도 밝다 제가 머리로 갈까나\n",
      " 서귀포 바당에 해녀가 든숭만숭\n",
      " 둥그대당실 둥그대당실 여도당실 연자버리고\n",
      " 달도 밝다 제가 머리로 갈까나\n",
      " 둥그대당실 �\n",
      "<|startoftranscript|><|ko|><|transcribe|>오돌또기 저기 춘향 나온다\n",
      " 달도 밝다 제가 버리로 갈까나\n",
      " 둥그대당실 둥그대당실 여도당실 연자버리고\n",
      " 달도 밝다 제가 머리로 갈까나\n",
      " 서귀포 바당에 해녀가 든숭만숭\n",
      " 둥그대당실 둥그대당실 여도당실 연자버리고\n",
      " 달도 밝다 제가 머리로 갈까나\n",
      " 둥그대당실 둥\n",
      "<|startoftranscript|><|ko|><|transcribe|>오돌또기 저기 춘향 나온다\n",
      " 달도 밝다 제가 버리로 갈까나\n",
      " 둥그대당실 둥그대당실 여도당실 연자버리고\n",
      " 달도 밝다 제가 머리로 갈까나\n",
      " 서귀포 바당에 해녀가 든숭만숭\n",
      " 둥그대당실 둥그대당실 여도당실 연자버리고\n",
      " 달도 밝다 제가 머리로 갈까나\n",
      " 둥그대당실 둥그�\n",
      "<|startoftranscript|><|ko|><|transcribe|>오돌또기 저기 춘향 나온다\n",
      " 달도 밝다 제가 버리로 갈까나\n",
      " 둥그대당실 둥그대당실 여도당실 연자버리고\n",
      " 달도 밝다 제가 머리로 갈까나\n",
      " 서귀포 바당에 해녀가 든숭만숭\n",
      " 둥그대당실 둥그대당실 여도당실 연자버리고\n",
      " 달도 밝다 제가 머리로 갈까나\n",
      " 둥그대당실 둥그대\n",
      "<|startoftranscript|><|ko|><|transcribe|>오돌또기 저기 춘향 나온다\n",
      " 달도 밝다 제가 버리로 갈까나\n",
      " 둥그대당실 둥그대당실 여도당실 연자버리고\n",
      " 달도 밝다 제가 머리로 갈까나\n",
      " 서귀포 바당에 해녀가 든숭만숭\n",
      " 둥그대당실 둥그대당실 여도당실 연자버리고\n",
      " 달도 밝다 제가 머리로 갈까나\n",
      " 둥그대당실 둥그대당\n",
      "<|startoftranscript|><|ko|><|transcribe|>오돌또기 저기 춘향 나온다\n",
      " 달도 밝다 제가 버리로 갈까나\n",
      " 둥그대당실 둥그대당실 여도당실 연자버리고\n",
      " 달도 밝다 제가 머리로 갈까나\n",
      " 서귀포 바당에 해녀가 든숭만숭\n",
      " 둥그대당실 둥그대당실 여도당실 연자버리고\n",
      " 달도 밝다 제가 머리로 갈까나\n",
      " 둥그대당실 둥그대당실\n",
      "<|startoftranscript|><|ko|><|transcribe|>오돌또기 저기 춘향 나온다\n",
      " 달도 밝다 제가 버리로 갈까나\n",
      " 둥그대당실 둥그대당실 여도당실 연자버리고\n",
      " 달도 밝다 제가 머리로 갈까나\n",
      " 서귀포 바당에 해녀가 든숭만숭\n",
      " 둥그대당실 둥그대당실 여도당실 연자버리고\n",
      " 달도 밝다 제가 머리로 갈까나\n",
      " 둥그대당실 둥그대당실 여�\n",
      "<|startoftranscript|><|ko|><|transcribe|>오돌또기 저기 춘향 나온다\n",
      " 달도 밝다 제가 버리로 갈까나\n",
      " 둥그대당실 둥그대당실 여도당실 연자버리고\n",
      " 달도 밝다 제가 머리로 갈까나\n",
      " 서귀포 바당에 해녀가 든숭만숭\n",
      " 둥그대당실 둥그대당실 여도당실 연자버리고\n",
      " 달도 밝다 제가 머리로 갈까나\n",
      " 둥그대당실 둥그대당실 여도\n",
      "<|startoftranscript|><|ko|><|transcribe|>오돌또기 저기 춘향 나온다\n",
      " 달도 밝다 제가 버리로 갈까나\n",
      " 둥그대당실 둥그대당실 여도당실 연자버리고\n",
      " 달도 밝다 제가 머리로 갈까나\n",
      " 서귀포 바당에 해녀가 든숭만숭\n",
      " 둥그대당실 둥그대당실 여도당실 연자버리고\n",
      " 달도 밝다 제가 머리로 갈까나\n",
      " 둥그대당실 둥그대당실 여도당\n",
      "<|startoftranscript|><|ko|><|transcribe|>오돌또기 저기 춘향 나온다\n",
      " 달도 밝다 제가 버리로 갈까나\n",
      " 둥그대당실 둥그대당실 여도당실 연자버리고\n",
      " 달도 밝다 제가 머리로 갈까나\n",
      " 서귀포 바당에 해녀가 든숭만숭\n",
      " 둥그대당실 둥그대당실 여도당실 연자버리고\n",
      " 달도 밝다 제가 머리로 갈까나\n",
      " 둥그대당실 둥그대당실 여도당실\n",
      "<|startoftranscript|><|ko|><|transcribe|>오돌또기 저기 춘향 나온다\n",
      " 달도 밝다 제가 버리로 갈까나\n",
      " 둥그대당실 둥그대당실 여도당실 연자버리고\n",
      " 달도 밝다 제가 머리로 갈까나\n",
      " 서귀포 바당에 해녀가 든숭만숭\n",
      " 둥그대당실 둥그대당실 여도당실 연자버리고\n",
      " 달도 밝다 제가 머리로 갈까나\n",
      " 둥그대당실 둥그대당실 여도당실 연\n",
      "<|startoftranscript|><|ko|><|transcribe|>오돌또기 저기 춘향 나온다\n",
      " 달도 밝다 제가 버리로 갈까나\n",
      " 둥그대당실 둥그대당실 여도당실 연자버리고\n",
      " 달도 밝다 제가 머리로 갈까나\n",
      " 서귀포 바당에 해녀가 든숭만숭\n",
      " 둥그대당실 둥그대당실 여도당실 연자버리고\n",
      " 달도 밝다 제가 머리로 갈까나\n",
      " 둥그대당실 둥그대당실 여도당실 연자�\n",
      "<|startoftranscript|><|ko|><|transcribe|>오돌또기 저기 춘향 나온다\n",
      " 달도 밝다 제가 버리로 갈까나\n",
      " 둥그대당실 둥그대당실 여도당실 연자버리고\n",
      " 달도 밝다 제가 머리로 갈까나\n",
      " 서귀포 바당에 해녀가 든숭만숭\n",
      " 둥그대당실 둥그대당실 여도당실 연자버리고\n",
      " 달도 밝다 제가 머리로 갈까나\n",
      " 둥그대당실 둥그대당실 여도당실 연자버�\n",
      "<|startoftranscript|><|ko|><|transcribe|>오돌또기 저기 춘향 나온다\n",
      " 달도 밝다 제가 버리로 갈까나\n",
      " 둥그대당실 둥그대당실 여도당실 연자버리고\n",
      " 달도 밝다 제가 머리로 갈까나\n",
      " 서귀포 바당에 해녀가 든숭만숭\n",
      " 둥그대당실 둥그대당실 여도당실 연자버리고\n",
      " 달도 밝다 제가 머리로 갈까나\n",
      " 둥그대당실 둥그대당실 여도당실 연자버리고\n",
      "<|startoftranscript|><|ko|><|transcribe|>오돌또기 저기 춘향 나온다\n",
      " 달도 밝다 제가 버리로 갈까나\n",
      " 둥그대당실 둥그대당실 여도당실 연자버리고\n",
      " 달도 밝다 제가 머리로 갈까나\n",
      " 서귀포 바당에 해녀가 든숭만숭\n",
      " 둥그대당실 둥그대당실 여도당실 연자버리고\n",
      " 달도 밝다 제가 머리로 갈까나\n",
      " 둥그대당실 둥그대당실 여도당실 연자버리고\n",
      "\n",
      "<|startoftranscript|><|ko|><|transcribe|>오돌또기 저기 춘향 나온다\n",
      " 달도 밝다 제가 버리로 갈까나\n",
      " 둥그대당실 둥그대당실 여도당실 연자버리고\n",
      " 달도 밝다 제가 머리로 갈까나\n",
      " 서귀포 바당에 해녀가 든숭만숭\n",
      " 둥그대당실 둥그대당실 여도당실 연자버리고\n",
      " 달도 밝다 제가 머리로 갈까나\n",
      " 둥그대당실 둥그대당실 여도당실 연자버리고\n",
      " 달�\n",
      "<|startoftranscript|><|ko|><|transcribe|>오돌또기 저기 춘향 나온다\n",
      " 달도 밝다 제가 버리로 갈까나\n",
      " 둥그대당실 둥그대당실 여도당실 연자버리고\n",
      " 달도 밝다 제가 머리로 갈까나\n",
      " 서귀포 바당에 해녀가 든숭만숭\n",
      " 둥그대당실 둥그대당실 여도당실 연자버리고\n",
      " 달도 밝다 제가 머리로 갈까나\n",
      " 둥그대당실 둥그대당실 여도당실 연자버리고\n",
      " 달도\n",
      "<|startoftranscript|><|ko|><|transcribe|>오돌또기 저기 춘향 나온다\n",
      " 달도 밝다 제가 버리로 갈까나\n",
      " 둥그대당실 둥그대당실 여도당실 연자버리고\n",
      " 달도 밝다 제가 머리로 갈까나\n",
      " 서귀포 바당에 해녀가 든숭만숭\n",
      " 둥그대당실 둥그대당실 여도당실 연자버리고\n",
      " 달도 밝다 제가 머리로 갈까나\n",
      " 둥그대당실 둥그대당실 여도당실 연자버리고\n",
      " 달도 밝\n",
      "<|startoftranscript|><|ko|><|transcribe|>오돌또기 저기 춘향 나온다\n",
      " 달도 밝다 제가 버리로 갈까나\n",
      " 둥그대당실 둥그대당실 여도당실 연자버리고\n",
      " 달도 밝다 제가 머리로 갈까나\n",
      " 서귀포 바당에 해녀가 든숭만숭\n",
      " 둥그대당실 둥그대당실 여도당실 연자버리고\n",
      " 달도 밝다 제가 머리로 갈까나\n",
      " 둥그대당실 둥그대당실 여도당실 연자버리고\n",
      " 달도 밝다\n",
      "<|startoftranscript|><|ko|><|transcribe|>오돌또기 저기 춘향 나온다\n",
      " 달도 밝다 제가 버리로 갈까나\n",
      " 둥그대당실 둥그대당실 여도당실 연자버리고\n",
      " 달도 밝다 제가 머리로 갈까나\n",
      " 서귀포 바당에 해녀가 든숭만숭\n",
      " 둥그대당실 둥그대당실 여도당실 연자버리고\n",
      " 달도 밝다 제가 머리로 갈까나\n",
      " 둥그대당실 둥그대당실 여도당실 연자버리고\n",
      " 달도 밝다 제가\n",
      "<|startoftranscript|><|ko|><|transcribe|>오돌또기 저기 춘향 나온다\n",
      " 달도 밝다 제가 버리로 갈까나\n",
      " 둥그대당실 둥그대당실 여도당실 연자버리고\n",
      " 달도 밝다 제가 머리로 갈까나\n",
      " 서귀포 바당에 해녀가 든숭만숭\n",
      " 둥그대당실 둥그대당실 여도당실 연자버리고\n",
      " 달도 밝다 제가 머리로 갈까나\n",
      " 둥그대당실 둥그대당실 여도당실 연자버리고\n",
      " 달도 밝다 제가 머�\n",
      "<|startoftranscript|><|ko|><|transcribe|>오돌또기 저기 춘향 나온다\n",
      " 달도 밝다 제가 버리로 갈까나\n",
      " 둥그대당실 둥그대당실 여도당실 연자버리고\n",
      " 달도 밝다 제가 머리로 갈까나\n",
      " 서귀포 바당에 해녀가 든숭만숭\n",
      " 둥그대당실 둥그대당실 여도당실 연자버리고\n",
      " 달도 밝다 제가 머리로 갈까나\n",
      " 둥그대당실 둥그대당실 여도당실 연자버리고\n",
      " 달도 밝다 제가 머리�\n",
      "<|startoftranscript|><|ko|><|transcribe|>오돌또기 저기 춘향 나온다\n",
      " 달도 밝다 제가 버리로 갈까나\n",
      " 둥그대당실 둥그대당실 여도당실 연자버리고\n",
      " 달도 밝다 제가 머리로 갈까나\n",
      " 서귀포 바당에 해녀가 든숭만숭\n",
      " 둥그대당실 둥그대당실 여도당실 연자버리고\n",
      " 달도 밝다 제가 머리로 갈까나\n",
      " 둥그대당실 둥그대당실 여도당실 연자버리고\n",
      " 달도 밝다 제가 머리로\n",
      "<|startoftranscript|><|ko|><|transcribe|>오돌또기 저기 춘향 나온다\n",
      " 달도 밝다 제가 버리로 갈까나\n",
      " 둥그대당실 둥그대당실 여도당실 연자버리고\n",
      " 달도 밝다 제가 머리로 갈까나\n",
      " 서귀포 바당에 해녀가 든숭만숭\n",
      " 둥그대당실 둥그대당실 여도당실 연자버리고\n",
      " 달도 밝다 제가 머리로 갈까나\n",
      " 둥그대당실 둥그대당실 여도당실 연자버리고\n",
      " 달도 밝다 제가 머리로 갈\n",
      "<|startoftranscript|><|ko|><|transcribe|>오돌또기 저기 춘향 나온다\n",
      " 달도 밝다 제가 버리로 갈까나\n",
      " 둥그대당실 둥그대당실 여도당실 연자버리고\n",
      " 달도 밝다 제가 머리로 갈까나\n",
      " 서귀포 바당에 해녀가 든숭만숭\n",
      " 둥그대당실 둥그대당실 여도당실 연자버리고\n",
      " 달도 밝다 제가 머리로 갈까나\n",
      " 둥그대당실 둥그대당실 여도당실 연자버리고\n",
      " 달도 밝다 제가 머리로 갈�\n",
      "<|startoftranscript|><|ko|><|transcribe|>오돌또기 저기 춘향 나온다\n",
      " 달도 밝다 제가 버리로 갈까나\n",
      " 둥그대당실 둥그대당실 여도당실 연자버리고\n",
      " 달도 밝다 제가 머리로 갈까나\n",
      " 서귀포 바당에 해녀가 든숭만숭\n",
      " 둥그대당실 둥그대당실 여도당실 연자버리고\n",
      " 달도 밝다 제가 머리로 갈까나\n",
      " 둥그대당실 둥그대당실 여도당실 연자버리고\n",
      " 달도 밝다 제가 머리로 갈까�\n",
      "<|startoftranscript|><|ko|><|transcribe|>오돌또기 저기 춘향 나온다\n",
      " 달도 밝다 제가 버리로 갈까나\n",
      " 둥그대당실 둥그대당실 여도당실 연자버리고\n",
      " 달도 밝다 제가 머리로 갈까나\n",
      " 서귀포 바당에 해녀가 든숭만숭\n",
      " 둥그대당실 둥그대당실 여도당실 연자버리고\n",
      " 달도 밝다 제가 머리로 갈까나\n",
      " 둥그대당실 둥그대당실 여도당실 연자버리고\n",
      " 달도 밝다 제가 머리로 갈까나\n",
      "<|startoftranscript|><|ko|><|transcribe|>오돌또기 저기 춘향 나온다\n",
      " 달도 밝다 제가 버리로 갈까나\n",
      " 둥그대당실 둥그대당실 여도당실 연자버리고\n",
      " 달도 밝다 제가 머리로 갈까나\n",
      " 서귀포 바당에 해녀가 든숭만숭\n",
      " 둥그대당실 둥그대당실 여도당실 연자버리고\n",
      " 달도 밝다 제가 머리로 갈까나\n",
      " 둥그대당실 둥그대당실 여도당실 연자버리고\n",
      " 달도 밝다 제가 머리로 갈까나\n",
      "\n"
     ]
    }
   ],
   "source": [
    "for i in range(len(tokens)): \n",
    "  print(processor.decode(tokens[:i]))"
   ]
  },
  {
   "cell_type": "code",
   "execution_count": 13,
   "metadata": {},
   "outputs": [
    {
     "data": {
      "text/plain": [
       "'이여도 한양 라 이여도하 한양, 저녁이나 밝으때 하저, 이여방애 이여방애, 이여도 한양 라 이여도 한양 라, 이여이여 이여도 한양 라, 한 마슬에 세첩한 놈은, 대천바당 한 가운데, 이여동 한양 라 이여동 한양 라, 집세거리 이신놈은, 살앙간이나 잇건마는, 이여이여 이여도 한양 라, 사랑 사랑은 내 사랑이여, 이여도 한양 라 이여도 한양 라, 간다드니 웨 왓더냐, 돌아사면 후훼 할 질을, 돌아 사지를 말 아니해여 말 아니 해여, 한 해에랑 옷 세벌 입엉, 보리 비단 능라비로, 즉을때 까장 사랑한다고 해여두고, 한강 바당 한가운 듸랑, 치엇은 배질이러라\\n'"
      ]
     },
     "execution_count": 13,
     "metadata": {},
     "output_type": "execute_result"
    }
   ],
   "source": []
  },
  {
   "cell_type": "code",
   "execution_count": null,
   "metadata": {},
   "outputs": [],
   "source": [
    "t, b = around_pad_seqence(token_ar)"
   ]
  },
  {
   "cell_type": "code",
   "execution_count": null,
   "metadata": {},
   "outputs": [],
   "source": [
    "import IPython.display as ipd\n",
    "\n",
    "audio_fn = '/home/daewoong/userdata/danbi/final_tts_audio/lyric36-5.wav'\n",
    "ipd.Audio(audio_fn)"
   ]
  },
  {
   "cell_type": "code",
   "execution_count": null,
   "metadata": {},
   "outputs": [],
   "source": [
    "#달도 밝다 제가 머리로 갈까나 서귀포 바당에 해녀가 든숭만숭\n",
    "#{'text': ' 달도 밝다 제가 머리로 갈까나 서귀포 바당에 해녀가 든숭만숭빠큰',\n",
    "\n",
    "model.eval()\n",
    "model.to('cuda')\n",
    "with torch.no_grad():\n",
    "  out = model.transcribe(audio ='/home/daewoong/userdata/danbi/final_tts_audio/lyric36-5.wav', around_text=t.unsqueeze(0).cuda())"
   ]
  },
  {
   "cell_type": "code",
   "execution_count": null,
   "metadata": {},
   "outputs": [],
   "source": [
    "# 저장 할 주소 입력하면 됩니다.\n",
    "# 현재 오리지널 위스퍼의 결과값은 /home/daewoong/userdata/danbi/csv_list/org_whisper_pred.csv 에 저장되어있습니다.\n",
    "#test_dataset_mid_csv.to_csv('/home/daewoong/userdata/danbi/csv_list/3-3_val_best_wer3_temp_all.csv')\n",
    "test_dataset_mid_csv.to_csv('/home/daewoong/userdata/danbi/train_result/val_best_wer_6.csv')"
   ]
  },
  {
   "cell_type": "code",
   "execution_count": null,
   "metadata": {},
   "outputs": [],
   "source": [
    "test_dataset_mid_csv['org_whisper_pred'] = org_whisper['org_whisper_pred']\n",
    "test_dataset_mid_csv['org_whisper_wer'] = org_whisper['org_whisper_wer'].round(2)\n",
    "test_dataset_mid_csv['org_whisper_cer'] = org_whisper['org_whisper_cer'].round(2)\n"
   ]
  },
  {
   "cell_type": "code",
   "execution_count": null,
   "metadata": {},
   "outputs": [],
   "source": [
    "test_dataset_mid_csv['diff'] = (test_dataset_mid_csv['org_whisper_cer'] - test_dataset_mid_csv['pred_cer']).round(2)"
   ]
  },
  {
   "cell_type": "code",
   "execution_count": null,
   "metadata": {},
   "outputs": [],
   "source": [
    "test_dataset_mid_csv"
   ]
  },
  {
   "cell_type": "code",
   "execution_count": 4,
   "metadata": {},
   "outputs": [],
   "source": [
    "import pickle\n",
    "audio_path = '/home/daewoong/userdata/danbi/final_tts_audio'\n",
    "lyric_path = '/home/daewoong/userdata/danbi/final_lyrics_data/'\n",
    "each_lyric = '/home/daewoong/userdata/danbi/each_song_lyrics.txt'\n",
    "result_path = '/home/daewoong/userdata/danbi/encoder_result'\n",
    "filtered_id_list = pickle.load(open('/home/daewoong/userdata/danbi/thirty_second_filtered_id.pkl', 'rb'))\n",
    "\n",
    "processor = WhisperProcessor.from_pretrained(\"openai/whisper-large-v2\", language=\"ko\", task=\"transcribe\", predict_timestamps=True)\n",
    "\n",
    "\n",
    "dataset = MinyoDataset_for_test(result_path, lyric_path, processor, filtered_id_list, each_lyric, max_len = 1024, random_ratio=0)\n",
    "#dataset = MinyoDataset(result_path, lyric_path, processor, filtered_id_list, each_lyric, max_len = 1024, random_ratio=0)\n"
   ]
  },
  {
   "cell_type": "code",
   "execution_count": 75,
   "metadata": {},
   "outputs": [
    {
     "data": {
      "application/vnd.jupyter.widget-view+json": {
       "model_id": "90d58dc68ad3416ba664c7d6045f174f",
       "version_major": 2,
       "version_minor": 0
      },
      "text/plain": [
       "  0%|          | 0/7679 [00:00<?, ?it/s]"
      ]
     },
     "metadata": {},
     "output_type": "display_data"
    },
    {
     "name": "stderr",
     "output_type": "stream",
     "text": [
      "Token indices sequence length is longer than the specified maximum sequence length for this model (1034 > 1024). Running this sequence through the model will result in indexing errors\n"
     ]
    }
   ],
   "source": [
    "from tqdm.auto import tqdm\n",
    "def read_text(txt_path):\n",
    "  with open(txt_path, 'r') as f:\n",
    "    text = f.read()\n",
    "  return text\n",
    "each_lyric_list = read_text(each_lyric).split('\\n')\n",
    "\n",
    "split_lyric = [] \n",
    "for i in each_lyric_list:\n",
    "  txt = ('\\n '.join(i.split(', ')))\n",
    "  txt += '\\n'\n",
    "  split_lyric.append(txt)\n",
    "\n",
    "token_len_list = []\n",
    "for i in tqdm(range(len(split_lyric))):\n",
    "  token_len_list.append(len(processor.tokenizer.encode(split_lyric[i])))\n",
    "  "
   ]
  },
  {
   "cell_type": "code",
   "execution_count": 118,
   "metadata": {},
   "outputs": [],
   "source": [
    "j = 0\n",
    "for i in token_len_list :\n",
    "  if i > 1024:\n",
    "    j += 1"
   ]
  },
  {
   "cell_type": "code",
   "execution_count": 120,
   "metadata": {},
   "outputs": [
    {
     "data": {
      "text/plain": [
       "65"
      ]
     },
     "execution_count": 120,
     "metadata": {},
     "output_type": "execute_result"
    }
   ],
   "source": [
    "j"
   ]
  },
  {
   "cell_type": "code",
   "execution_count": 121,
   "metadata": {},
   "outputs": [
    {
     "data": {
      "text/plain": [
       "<Figure size 1440x720 with 0 Axes>"
      ]
     },
     "metadata": {},
     "output_type": "display_data"
    },
    {
     "data": {
      "image/png": "[encoded data removed]",
      "text/plain": [
       "<Figure size 720x360 with 1 Axes>"
      ]
     },
     "metadata": {
      "needs_background": "light"
     },
     "output_type": "display_data"
    }
   ],
   "source": [
    "import matplotlib.pyplot as plt\n",
    "import numpy as np\n",
    "song_indices = range(len(token_len_list))\n",
    "plt.figure(figsize=(20,10))  # you can adjust this size as needed\n",
    "bins = np.arange(0, max(token_len_list) + 512, 512)\n",
    "\n",
    "plt.figure(figsize=(10,5))  # adjust this size as needed\n",
    "hist, _, _ = plt.hist(token_len_list, bins=bins, edgecolor='black')\n",
    "plt.xlabel('Number of Tokens')\n",
    "plt.ylabel('Number of Songs')\n",
    "plt.xticks(np.arange(0, max(token_len_list) + 512, 512))  # set x-ticks to be every 512 units\n",
    "\n",
    "plt.title('Histogram of Token Counts')\n",
    "for i in range(len(hist)):\n",
    "    count = int(hist[i])\n",
    "    plt.text(bins[i], count, str(count), ha='center', va='bottom')\n",
    "\n",
    "plt.show()"
   ]
  },
  {
   "cell_type": "code",
   "execution_count": 108,
   "metadata": {},
   "outputs": [
    {
     "data": {
      "text/plain": [
       "array([   0,  500, 1024, 1024, 2000, 2500, 3000, 3500, 4000, 4500, 5000,\n",
       "       5500])"
      ]
     },
     "execution_count": 108,
     "metadata": {},
     "output_type": "execute_result"
    }
   ],
   "source": [
    "bins"
   ]
  },
  {
   "cell_type": "code",
   "execution_count": 46,
   "metadata": {},
   "outputs": [
    {
     "data": {
      "text/plain": [
       "'이여도 한양 라 이여도하 한양, 저녁이나 밝으때 하저, 이여방애 이여방애, 이여도 한양 라 이여도 한양 라, 이여이여 이여도 한양 라, 한 마슬에 세첩한 놈은, 대천바당 한 가운데, 이여동 한양 라 이여동 한양 라, 집세거리 이신놈은, 살앙간이나 잇건마는, 이여이여 이여도 한양 라, 사랑 사랑은 내 사랑이여, 이여도 한양 라 이여도 한양 라, 간다드니 웨 왓더냐, 돌아사면 후훼 할 질을, 돌아 사지를 말 아니해여 말 아니 해여, 한 해에랑 옷 세벌 입엉, 보리 비단 능라비로, 즉을때 까장 사랑한다고 해여두고, 한강 바당 한가운 듸랑, 치엇은 배질이러라'"
      ]
     },
     "execution_count": 46,
     "metadata": {},
     "output_type": "execute_result"
    }
   ],
   "source": [
    "each_lyric_list[0]"
   ]
  },
  {
   "cell_type": "code",
   "execution_count": 13,
   "metadata": {},
   "outputs": [
    {
     "name": "stdout",
     "output_type": "stream",
     "text": [
      "[50258, 50264, 50359, 21064, 1698, 1838, 4815, 14973, 22339, 4329, 245, 1698, 1838, 2240, 4815, 14973, 198, 13163, 227, 223, 21672, 26499, 3336, 14922, 3369, 11738, 198, 50257]\n",
      "[50258, 50264, 50359, 21064, 1698, 1838, 4815, 14973, 22339, 4329, 245, 1698, 1838, 2240, 4815, 14973, 198, 2179, 2366, 227, 223, 21672, 26499, 3336, 14922, 3369, 11738, 50257]\n"
     ]
    }
   ],
   "source": [
    "tt = '이여도 한양 라 이여도하 한양\\n 저녁이나 밝으때 하저\\n'\n",
    "print(processor.tokenizer.encode(tt))\n",
    "tt = '이여도 한양 라 이여도하 한양\\n저녁이나 밝으때 하저'\n",
    "print(processor.tokenizer.encode(tt))"
   ]
  },
  {
   "cell_type": "code",
   "execution_count": 52,
   "metadata": {},
   "outputs": [
    {
     "data": {
      "text/plain": [
       "'이여도 한양 라 이여도하 한양\\n저�'"
      ]
     },
     "execution_count": 52,
     "metadata": {},
     "output_type": "execute_result"
    }
   ],
   "source": [
    "processor.decode([21064, 1698, 1838, 4815, 14973, 22339, 4329, 245, 1698, 1838, 2240, 4815, 14973, 198, 2179, 2366])"
   ]
  },
  {
   "cell_type": "code",
   "execution_count": 43,
   "metadata": {},
   "outputs": [
    {
     "data": {
      "text/plain": [
       "'이여도 한양 라 이여도하 한양\\n�'"
      ]
     },
     "execution_count": 43,
     "metadata": {},
     "output_type": "execute_result"
    }
   ],
   "source": [
    "processor.decode([21064, 1698, 1838, 4815, 14973, 22339, 4329, 245, 1698, 1838, 2240, 4815, 14973, 198, 2179,])"
   ]
  },
  {
   "cell_type": "code",
   "execution_count": null,
   "metadata": {},
   "outputs": [],
   "source": [
    "dataset = MinyoDataset(result_path, lyric_path, processor, filtered_id_list, each_lyric, max_len = 1024, random_ratio=0)\n"
   ]
  },
  {
   "cell_type": "code",
   "execution_count": null,
   "metadata": {},
   "outputs": [],
   "source": [
    "audio_encoder_value, input_text, input_text_attn, around_text_ids, around_text_mask = dataset[0]"
   ]
  },
  {
   "cell_type": "code",
   "execution_count": null,
   "metadata": {},
   "outputs": [],
   "source": [
    "processor.tokenizer.decode(around_text_ids)"
   ]
  },
  {
   "cell_type": "code",
   "execution_count": null,
   "metadata": {},
   "outputs": [],
   "source": [
    "a,b,c,d = dataset[0]"
   ]
  },
  {
   "cell_type": "code",
   "execution_count": null,
   "metadata": {},
   "outputs": [],
   "source": [
    "d"
   ]
  },
  {
   "cell_type": "code",
   "execution_count": null,
   "metadata": {},
   "outputs": [],
   "source": [
    "from tqdm.auto import tqdm\n",
    "for i in tqdm(range(len(dataset))):\n",
    "  _,_,_,d = dataset[i]\n",
    "  if d.split('-')[0] == 'lyric3696':\n",
    "    print(i)"
   ]
  },
  {
   "cell_type": "code",
   "execution_count": null,
   "metadata": {},
   "outputs": [],
   "source": [
    "dataset[0], dataset[7151]"
   ]
  },
  {
   "cell_type": "code",
   "execution_count": null,
   "metadata": {},
   "outputs": [],
   "source": [
    "dataset[0]"
   ]
  },
  {
   "cell_type": "code",
   "execution_count": null,
   "metadata": {},
   "outputs": [],
   "source": [
    "import pandas as pd\n",
    "test_dataset_mid = pd.read_csv('/home/daewoong/userdata/test_set/test_dataset_mid.csv')\n",
    "around_text = '\\n'.join(ast.literal_eval(test_dataset_mid.iloc[0]['total_lyric']))"
   ]
  },
  {
   "cell_type": "code",
   "execution_count": null,
   "metadata": {},
   "outputs": [],
   "source": [
    "around_text"
   ]
  }
 ],
 "metadata": {
  "kernelspec": {
   "display_name": "Python 3",
   "language": "python",
   "name": "python3"
  },
  "language_info": {
   "codemirror_mode": {
    "name": "ipython",
    "version": 3
   },
   "file_extension": ".py",
   "mimetype": "text/x-python",
   "name": "python",
   "nbconvert_exporter": "python",
   "pygments_lexer": "ipython3",
   "version": "3.8.10"
  },
  "orig_nbformat": 4
 },
 "nbformat": 4,
 "nbformat_minor": 2
}
