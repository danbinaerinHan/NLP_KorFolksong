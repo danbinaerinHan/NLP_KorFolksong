{
 "cells": [
  {
   "cell_type": "code",
   "execution_count": 1,
   "metadata": {},
   "outputs": [],
   "source": [
    "\n",
    "import torch\n",
    "import whisper\n",
    "import ast\n",
    "from my_model_daewoung import Mymodel\n",
    "from data_utils import MinyoDataset, custom_collate_fn, get_wer\n",
    "from for_test import get_test_data"
   ]
  },
  {
   "cell_type": "code",
   "execution_count": 2,
   "metadata": {},
   "outputs": [],
   "source": [
    "pre_model = whisper.load_model(\"/home/daewoong/userdata/danbi/whisper_pretrain/large-v2.pt\", device='cpu')  \n",
    "model_dims = pre_model.dims\n",
    "model_dims.n_ref_encoder_layer = 3\n",
    "model_dims.n_ref_decoder_layer = 3\n",
    "model_dims.n_ref_text_ctx = 1024\n",
    "model_dims.n_ref_text_state = 1280\n",
    "model = Mymodel(model_dims)\n",
    "model.load_state_dict(torch.load('/home/daewoong/userdata/danbi/layer3-3_train_result/val_best_wer_3.pt',map_location = 'cpu'))                           "
   ]
  },
  {
   "cell_type": "code",
   "execution_count": 5,
   "metadata": {},
   "outputs": [
    {
     "data": {
      "application/vnd.jupyter.widget-view+json": {
       "model_id": "dd523618c8f04203af58c3df99882342",
       "version_major": 2,
       "version_minor": 0
      },
      "text/plain": [
       "  0%|          | 0/72 [00:00<?, ?it/s]"
      ]
     },
     "metadata": {},
     "output_type": "display_data"
    },
    {
     "name": "stderr",
     "output_type": "stream",
     "text": [
      "Token indices sequence length is longer than the specified maximum sequence length for this model (1819 > 1024). Running this sequence through the model will result in indexing errors\n"
     ]
    },
    {
     "name": "stdout",
     "output_type": "stream",
     "text": [
      "5\n"
     ]
    },
    {
     "name": "stderr",
     "output_type": "stream",
     "text": [
      "Token indices sequence length is longer than the specified maximum sequence length for this model (2128 > 1024). Running this sequence through the model will result in indexing errors\n"
     ]
    }
   ],
   "source": [
    "# temperature를 설정하지 않으면 0, 0.2, 0.4 ... 1.0 까지 돌면서 inference를 진행합니다.\n",
    "# test set에서 길이를 넘는건 2개 인 것 같습니다.\n",
    "test_dataset_mid_csv = get_test_data(model, temperature = 0.0)"
   ]
  },
  {
   "cell_type": "code",
   "execution_count": 7,
   "metadata": {},
   "outputs": [],
   "source": [
    "# 저장 할 주소 입력하면 됩니다.\n",
    "# 현재 오리지널 위스퍼의 결과값은 /home/daewoong/userdata/danbi/csv_list/org_whisper_pred.csv 에 저장되어있습니다.\n",
    "test_dataset_mid_csv.to_csv('/home/daewoong/userdata/danbi/csv_list/3-3_val_best_wer3.csv')"
   ]
  }
 ],
 "metadata": {
  "kernelspec": {
   "display_name": "Python 3",
   "language": "python",
   "name": "python3"
  },
  "language_info": {
   "codemirror_mode": {
    "name": "ipython",
    "version": 3
   },
   "file_extension": ".py",
   "mimetype": "text/x-python",
   "name": "python",
   "nbconvert_exporter": "python",
   "pygments_lexer": "ipython3",
   "version": "3.8.10"
  },
  "orig_nbformat": 4
 },
 "nbformat": 4,
 "nbformat_minor": 2
}
